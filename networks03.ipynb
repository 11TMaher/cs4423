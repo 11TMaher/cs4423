{
 "cells": [
  {
   "cell_type": "markdown",
   "metadata": {},
   "source": [
    "### CS4423 - Networks\n",
    "Prof. Götz Pfeiffer<br />\n",
    "School of Mathematics, Statistics and Applied Mathematics<br />\n",
    "NUI Galway"
   ]
  },
  {
   "cell_type": "markdown",
   "metadata": {},
   "source": [
    "#### 1. Graphs and Graph Theory\n",
    "\n",
    "# Lecture 3: Graphs, Relations and a Matrix"
   ]
  },
  {
   "cell_type": "markdown",
   "metadata": {},
   "source": [
    "Start by importing the `networkx` package.  Also import `numpy` for matrix operations."
   ]
  },
  {
   "cell_type": "code",
   "execution_count": null,
   "metadata": {
    "slideshow": {
     "slide_type": "fragment"
    }
   },
   "outputs": [],
   "source": [
    "import networkx as nx\n",
    "import numpy as np"
   ]
  },
  {
   "cell_type": "markdown",
   "metadata": {},
   "source": [
    "We've seen how the mathematical concept of a (simple) graph\n",
    "can serve as a (mathematical) model of a network."
   ]
  },
  {
   "cell_type": "markdown",
   "metadata": {},
   "source": [
    "Here, we're going to relate graphs to two other [areas of mathematics](https://en.wikipedia.org/wiki/Areas_of_mathematics): \n",
    "* **Linear Algebra** and its language of matrices and **matrix multiplication**\n",
    "* **Set Theory** and the language of **relations**"
   ]
  },
  {
   "cell_type": "markdown",
   "metadata": {},
   "source": [
    "As before, let's construct a small graph `G`."
   ]
  },
  {
   "cell_type": "code",
   "execution_count": null,
   "metadata": {
    "slideshow": {
     "slide_type": "fragment"
    }
   },
   "outputs": [],
   "source": [
    "G = nx.Graph([\"AB\", \"BC\", \"BD\", \"CD\", \"DE\"])\n",
    "opts = { \"with_labels\": True, \"node_color\": 'y' }\n",
    "nx.draw(G, **opts)"
   ]
  },
  {
   "cell_type": "markdown",
   "metadata": {},
   "source": [
    "##  Adjacency Matrix"
   ]
  },
  {
   "cell_type": "markdown",
   "metadata": {},
   "source": [
    "A useful algebraic way to represent a graph is given by its __adjacency matrix__.  This is square matrix $A$, with rows and columns corresponding to the vertices of the graph, and an entry $1$ or $0$ in row $i$, column $j$, if\n",
    "the corresponding vertices are joined by an edge or not.\n",
    "The edge $AB$ in the example above this gives an entry $1$\n",
    "in row 1 (corresponding to vertex $A$) and column 2 (corresponding to\n",
    "vertex $B$.  And another entry $1$ in row 2 column 1.  The full adjacency matrix\n",
    "of the above graph is as follows.\n",
    "$$A = \\left[\n",
    "\\begin{array}{cccc}\n",
    "0&1&0&0&0\\\\\n",
    "1&0&1&1&0\\\\\n",
    "0&1&0&1&0\\\\\n",
    "0&1&1&0&1\\\\\n",
    "0&0&0&1&0\n",
    "\\end{array}\n",
    "\\right]$$"
   ]
  },
  {
   "cell_type": "markdown",
   "metadata": {},
   "source": [
    "In `networkx`, the adjacency matrix is computed with the `adjacency_matrix` command."
   ]
  },
  {
   "cell_type": "code",
   "execution_count": null,
   "metadata": {
    "scrolled": true
   },
   "outputs": [],
   "source": [
    "A = nx.adjacency_matrix(G)\n",
    "print(A)"
   ]
  },
  {
   "cell_type": "markdown",
   "metadata": {},
   "source": [
    "This matrix is internally represented as a `scipy` sparse matrix (as in general many of its\n",
    "entries are $0$) and needs to be converted (e.g. by the `toarray` command) in order\n",
    "to be displayed as a proper matrix."
   ]
  },
  {
   "cell_type": "markdown",
   "metadata": {},
   "source": [
    "(Note: the `todense` command converts an adjacency matrix to a `numpy` `matrix`.  But this class is being deprecated ...\n",
    "\n",
    "So we use `toarray` to convert an adjacency matrix to a `numpy` `ndarray`.  But here, `*` doesn't mean matrix multiplication ...)"
   ]
  },
  {
   "cell_type": "code",
   "execution_count": null,
   "metadata": {},
   "outputs": [],
   "source": [
    "type(A)"
   ]
  },
  {
   "cell_type": "code",
   "execution_count": null,
   "metadata": {},
   "outputs": [],
   "source": [
    "type(A.toarray())"
   ]
  },
  {
   "cell_type": "code",
   "execution_count": null,
   "metadata": {},
   "outputs": [],
   "source": [
    "print(A.toarray())"
   ]
  },
  {
   "cell_type": "markdown",
   "metadata": {},
   "source": [
    "Note that the matrix $A = (a_{ij})$, like every adjacency matrix of a simple\n",
    "graph, is **symmetric** (about the diagonal): $a_{ij} = a_{ji}$ for all\n",
    "$i, j$.  Also, all diagonal entries are $0$."
   ]
  },
  {
   "cell_type": "markdown",
   "metadata": {},
   "source": [
    "Going the other way, a graph can be constructed from an adjancency matrix (at the cost of losing the node labels ...)"
   ]
  },
  {
   "cell_type": "code",
   "execution_count": null,
   "metadata": {},
   "outputs": [],
   "source": [
    "H = nx.from_numpy_matrix(A.toarray())\n",
    "nx.draw(H, **opts)"
   ]
  },
  {
   "cell_type": "markdown",
   "metadata": {},
   "source": [
    "Some examples of matrix multiplication with `scipy` sparse matrices ... we'll get back to that later."
   ]
  },
  {
   "cell_type": "code",
   "execution_count": null,
   "metadata": {},
   "outputs": [],
   "source": [
    "print((A**0).toarray())"
   ]
  },
  {
   "cell_type": "code",
   "execution_count": null,
   "metadata": {},
   "outputs": [],
   "source": [
    "print((A*A).toarray())"
   ]
  },
  {
   "cell_type": "markdown",
   "metadata": {},
   "source": [
    "## Degree"
   ]
  },
  {
   "cell_type": "markdown",
   "metadata": {},
   "source": [
    "The **degree** of a vertex $x$ in a simple graph is the number of\n",
    "vertices it is connected to in the graph (it's number of **neighbours**, or **friends**).\n",
    "The degree can serve as a (simple) measure of the importance of a node\n",
    "in a network.  "
   ]
  },
  {
   "cell_type": "markdown",
   "metadata": {},
   "source": [
    "<div class=\"alert alert-info\">\n",
    "    <b>Fact.</b> The <b>average degree</b> of the nodes in a network depends\n",
    "(only) on the number $n$ of nodes, and the number $m$ of edges in the\n",
    "network.\n",
    "</div>"
   ]
  },
  {
   "cell_type": "markdown",
   "metadata": {},
   "source": [
    "This can be seen as follows:  Writing $k_i$ for the degree of vertex $x_i$, this number can\n",
    "easily be determined from the adjacency matrix $A$ as the number of\n",
    "entries $1$ in row $i$ (or in column $i$):\n",
    "$$k_i = \\sum_j a_{ij} = \\sum_j a_{ji}.$$\n",
    "As every edge contributes to the degree of $2$ nodes, the sum of all degrees\n",
    "equals twice the number of edges:\n",
    "$$\\sum_i k_i = \\sum_{i,j} a_{ij} = 2m,$$\n",
    "whence the **average degree** is\n",
    "$$c = \\frac1n \\sum_i k_i = \\frac{2m}{n}.$$"
   ]
  },
  {
   "cell_type": "markdown",
   "metadata": {},
   "source": [
    "As a consequence, any simple graph $G$ has an even number of nodes of odd degree.\n",
    "This fact is known as [Euler's Handshake Lemma](https://en.wikipedia.org/wiki/Handshaking_lemma)."
   ]
  },
  {
   "cell_type": "markdown",
   "metadata": {},
   "source": [
    "In our graph $G$, the column sums of the adjacency matrix `A` are:"
   ]
  },
  {
   "cell_type": "code",
   "execution_count": null,
   "metadata": {},
   "outputs": [],
   "source": [
    "A.toarray().sum(0)"
   ]
  },
  {
   "cell_type": "markdown",
   "metadata": {},
   "source": [
    "and the row sums are:"
   ]
  },
  {
   "cell_type": "code",
   "execution_count": null,
   "metadata": {},
   "outputs": [],
   "source": [
    "A.toarray().sum(1)"
   ]
  },
  {
   "cell_type": "markdown",
   "metadata": {},
   "source": [
    "and both agree with the degrees of the nodes of $G$:"
   ]
  },
  {
   "cell_type": "code",
   "execution_count": null,
   "metadata": {},
   "outputs": [],
   "source": [
    "G.degree()"
   ]
  },
  {
   "cell_type": "markdown",
   "metadata": {},
   "source": [
    "The sum of the degrees is $10$, the average degree is $\\frac{2m}{n} = 2$,\n",
    "and there are $4$ nodes of odd degree."
   ]
  },
  {
   "cell_type": "code",
   "execution_count": null,
   "metadata": {},
   "outputs": [],
   "source": [
    "A.sum()"
   ]
  },
  {
   "cell_type": "markdown",
   "metadata": {},
   "source": [
    "## Graphs are Relations"
   ]
  },
  {
   "cell_type": "markdown",
   "metadata": {},
   "source": [
    "Recall the following definitions.\n",
    "\n",
    "<div class=\"alert alert-danger\">\n",
    "    <b>Definition.</b>  A <b>relation</b> from a set $X$ to a set $Y$ is (nothing but) a subset\n",
    "$R$ of the Cartesian product $X \\times Y = \\{(x, y) :  x \\in X,\\, y \\in Y \\}$.\n",
    "    We say that $x \\in X$ is <b>$R$-related</b> to $y \\in Y$ whenever $(x, y) \\in R$\n",
    "and then write $x R y$.\n",
    "</div>"
   ]
  },
  {
   "cell_type": "markdown",
   "metadata": {},
   "source": [
    "* The **adjacency matrix** of a relation $R \\subseteq X \\times Y$\n",
    "is the matrix with one row for each element $x \\in X$ and one column for each\n",
    "element $y \\in Y$, and it has an entry $1$ in row $x$ and column $y$\n",
    "if $x R y$, and entries $0$ otherwise."
   ]
  },
  {
   "cell_type": "markdown",
   "metadata": {},
   "source": [
    "* In many cases, $Y = X$, i.e., $R$ is a **homogeneous** relation.\n",
    "In this case, we say that $R$ is a relation **on** $X$.  Such a relation\n",
    "can have one or more of the following properties.\n",
    "\n",
    "<div class=\"alert alert-danger\">\n",
    "    <ul>\n",
    "        <li> (R) $R$ is <b>reflexive</b> if $xRx$ for all $x \\in X$;</li>\n",
    "        <li> (S) $R$ is <b>symmetric</b> if $xRy$ implies $yRx$ for all $x, y \\in X$;</li>\n",
    "    <li> (T) $R$ is <b>transitive</b> if $xRy$ and $yRz$ imply that $xRz$ for all $x, y, z \\in X$;</li>\n",
    "    </ul>\n",
    "    <ul>\n",
    "        <li> (I) $R$ is <b>irreflexive</b> if not $xRx$ for all $x \\in X$;</li>\n",
    "    <li> (A) $R$ is <b>antisymmetric</b> if $xRy$ and $yRx$ imply that\n",
    "        $x = y$ for all $x, y \\in X$.</li>\n",
    "    </ul>\n",
    "</div>"
   ]
  },
  {
   "cell_type": "markdown",
   "metadata": {},
   "source": [
    "* A relation that is (RST), i.e., reflexive, symmetric and transitive, is\n",
    "called an **equivalence relation**, and it partitions the set $X$ into\n",
    "(mutually disjoint) parts, called **equivalence classes**.  "
   ]
  },
  {
   "cell_type": "markdown",
   "metadata": {},
   "source": [
    "* A relation\n",
    "that is (RAT) is called a **partial order** (such as the **divides**\n",
    "partial order on the natural numbers, or the **contains** relation\n",
    "between the subsets of a set)."
   ]
  },
  {
   "cell_type": "markdown",
   "metadata": {},
   "source": [
    "* In view of these notions, we can now describe simple graphs and some\n",
    "of their properties\n",
    "as follows: A *simple* graph with node set $X$ is a *symmetric*, *irreflexive* relation on $X$.  \n",
    "\n",
    "* (A *directed* graph with node set $X$\n",
    "is *irreflexive* if it has *no loops*.  And it is *antisymmetric* if\n",
    "every edge has a *unique direction*.)"
   ]
  },
  {
   "cell_type": "markdown",
   "metadata": {},
   "source": [
    "The article [Counting Transitive Relations] (in the *Journal of\n",
    "Integer Sequences*) contains a systematic account on the various types\n",
    "of relations that can be distinguished by these 5 properties, and a\n",
    "discussion of how to count them (up to equivalence) in case the\n",
    "underlying set $X$ is finite.\n",
    "\n",
    "[counting transitive relations]: https://cs.uwaterloo.ca/journals/JIS/VOL7/Pfeiffer/pfeiffer6.html"
   ]
  },
  {
   "cell_type": "markdown",
   "metadata": {},
   "source": [
    "## Composition and Adjacency Matrices.\n",
    "\n",
    "* Relations can be composed, like functions.  \n",
    "\n",
    "* If $R$ is a relation\n",
    "from a set $X$ to a set $Y$, and if $S$ is a relation from $Y$ to a set $Z$,\n",
    "then the __composite relation__ $R \\circ S$ is the relation\n",
    "from $X$ to $Z$, defined by $x (R \\circ S) z$ if there is a\n",
    "an element $y \\in Y$ such that $x R y$ and $y S z$."
   ]
  },
  {
   "cell_type": "markdown",
   "metadata": {},
   "source": [
    "* The adjacency matrix of the composite relation $R \\circ S$\n",
    "is essentially the (matrix) product of the adjacency matrices\n",
    "of the individual relations $R$ and $S$.\n",
    "\n",
    "* If $A = (a_{ij})$ is the adjacency matrix of $R$, and $B = (b_{jk})$ the adjacency matrix of $S$,\n",
    "then the $i,k$-entry of the product $AB$ is\n",
    "$$(AB)_{ik} = \\sum_{j} a_{ij} b_{jk},$$\n",
    "which is exactly the __number__ of elements $y \\in Y$ such that $x_i R\n",
    "y$ and $y S z_k$.  \n",
    "\n",
    "* All it needs for $x_i$ to be $(R \\circ S)$-related\n",
    "to $z_k$ is this number to be at least $1$.  \n",
    "\n",
    "* Hence, replacing all\n",
    "nonzero entries in the product matrix $AB$ with $1$ yields the\n",
    "adjacency matrix of the composite $R \\circ S$."
   ]
  },
  {
   "cell_type": "markdown",
   "metadata": {},
   "source": [
    "* Recall that a graph $G$ on a vertex set $X$ is the same as a symmetric irreflexive\n",
    "  relation $R$  on the set $X$.\n",
    "\n",
    "* We can form the matrix product of the adjacency matrix $A$ of $G$ (or $R$) with itself.\n",
    "  What is the **meaning** of the entries of that product?"
   ]
  },
  {
   "cell_type": "markdown",
   "metadata": {},
   "source": [
    "For example:"
   ]
  },
  {
   "cell_type": "code",
   "execution_count": null,
   "metadata": {},
   "outputs": [],
   "source": [
    "G = nx.Graph([\"AB\", \"BC\", \"BD\", \"CD\", \"CE\", \"DE\"])\n",
    "nx.draw(G, **opts)"
   ]
  },
  {
   "cell_type": "code",
   "execution_count": null,
   "metadata": {},
   "outputs": [],
   "source": [
    "A = nx.adjacency_matrix(G).toarray()\n",
    "AA = A @ A\n",
    "print(AA)"
   ]
  },
  {
   "cell_type": "markdown",
   "metadata": {},
   "source": [
    "In `numpy`, one can use **boolean indexing** and other convenient methods to convert $A^2$\n",
    "into an adjacency matrix of a graph."
   ]
  },
  {
   "cell_type": "code",
   "execution_count": null,
   "metadata": {},
   "outputs": [],
   "source": [
    "AA[AA>1] = 1\n",
    "print(AA)"
   ]
  },
  {
   "cell_type": "code",
   "execution_count": null,
   "metadata": {},
   "outputs": [],
   "source": [
    "np.fill_diagonal(AA, 0)\n",
    "print(AA)"
   ]
  },
  {
   "cell_type": "code",
   "execution_count": null,
   "metadata": {},
   "outputs": [],
   "source": [
    "GG = nx.from_numpy_matrix(AA)\n",
    "nx.draw(GG, **opts)"
   ]
  },
  {
   "cell_type": "markdown",
   "metadata": {},
   "source": [
    "* Oops - The node names got lost.  They can be revived by relabelling the nodes in `GG`."
   ]
  },
  {
   "cell_type": "code",
   "execution_count": null,
   "metadata": {},
   "outputs": [],
   "source": [
    "nx.relabel_nodes(GG, { i : \"ABCDE\"[i] for i in range(5)}, copy=False)\n",
    "nx.draw(GG, **opts)"
   ]
  },
  {
   "cell_type": "markdown",
   "metadata": {},
   "source": [
    "##  Code Corner"
   ]
  },
  {
   "cell_type": "markdown",
   "metadata": {},
   "source": [
    "### `Numpy`"
   ]
  },
  {
   "cell_type": "markdown",
   "metadata": {},
   "source": [
    "* `sum`:  form the sum of matrix entries, either all or along a specified axis"
   ]
  },
  {
   "cell_type": "markdown",
   "metadata": {},
   "source": [
    "* `toarray`:  convert a sparse matrix into a proper array"
   ]
  },
  {
   "cell_type": "markdown",
   "metadata": {},
   "source": [
    "* `fill_diagonal`: fill the diagonal entries of an array with a given value."
   ]
  },
  {
   "cell_type": "markdown",
   "metadata": {},
   "source": [
    "### `networkx`"
   ]
  },
  {
   "cell_type": "markdown",
   "metadata": {},
   "source": [
    "* `adjacency_matrix` computes the adjacency matrix of a graph"
   ]
  },
  {
   "cell_type": "markdown",
   "metadata": {},
   "source": [
    "  * `from_numpy_matrix` constructs a graph from its adjacency matrix"
   ]
  },
  {
   "cell_type": "markdown",
   "metadata": {},
   "source": [
    "##  Exercises"
   ]
  },
  {
   "cell_type": "markdown",
   "metadata": {},
   "source": [
    "1. Use the `complete_graph` function in `networkx` to construct a $5 \\times 5$ matrix\n",
    "   with entries $0$ on the diagonal and all other entries $1$."
   ]
  },
  {
   "cell_type": "code",
   "execution_count": null,
   "metadata": {},
   "outputs": [],
   "source": []
  }
 ],
 "metadata": {
  "kernelspec": {
   "display_name": "Python 3",
   "language": "python",
   "name": "python3"
  },
  "language_info": {
   "codemirror_mode": {
    "name": "ipython",
    "version": 3
   },
   "file_extension": ".py",
   "mimetype": "text/x-python",
   "name": "python",
   "nbconvert_exporter": "python",
   "pygments_lexer": "ipython3",
   "version": "3.7.6"
  }
 },
 "nbformat": 4,
 "nbformat_minor": 1
}
