{
 "cells": [
  {
   "cell_type": "markdown",
   "metadata": {},
   "source": [
    "### CS4423 - Networks\n",
    "Prof. Götz Pfeiffer<br />\n",
    "School of Mathematics, Statistics and Applied Mathematics<br />\n",
    "NUI Galway"
   ]
  },
  {
   "cell_type": "markdown",
   "metadata": {},
   "source": [
    "#### 1. Graphs and Graph Theory\n",
    "\n",
    "# Lecture 4: Bipartite Graphs and Projections"
   ]
  },
  {
   "cell_type": "markdown",
   "metadata": {},
   "source": [
    "We'll look at further properties of graphs and networks, both from a theoretical point of views and \n",
    "from the practical side of handling graphs in the `NetworkX` environment.  Start by importing the necessary\n",
    "`python` libraries into this `jupyter` notebook."
   ]
  },
  {
   "cell_type": "code",
   "execution_count": null,
   "metadata": {},
   "outputs": [],
   "source": [
    "import networkx as nx\n",
    "import numpy as np"
   ]
  },
  {
   "cell_type": "markdown",
   "metadata": {},
   "source": [
    "Also, let's fix some options for drawing graphs."
   ]
  },
  {
   "cell_type": "code",
   "execution_count": null,
   "metadata": {},
   "outputs": [],
   "source": [
    "opts = { \"with_labels\": True, \"node_color\": 'y' }"
   ]
  },
  {
   "cell_type": "markdown",
   "metadata": {},
   "source": [
    "### Bipartite Graphs"
   ]
  },
  {
   "cell_type": "markdown",
   "metadata": {},
   "source": [
    "<div class=\"alert alert-warning\">\n",
    "    A (simple) graph $G = (X, E)$ is called <b>bipartite</b>, if the vertex set $X$ is a disjoint union\n",
    "of two sets $B$ (of black nodes) and $W$ (of white nodes) so that each edge in $E$ links a\n",
    "black vertex with a white vertex.\n",
    "    </div>"
   ]
  },
  {
   "cell_type": "markdown",
   "metadata": {},
   "source": [
    "Here is a sample bipartite graph $B$, specified to the `Graph` constructor by its edge list."
   ]
  },
  {
   "cell_type": "code",
   "execution_count": null,
   "metadata": {},
   "outputs": [],
   "source": [
    "edges = [(0,5), (1,5), (1,6), (1,7), (1,8), \n",
    "  (2,8), (3,5), (3,9), (4,7), (4,8), (4,9)]\n",
    "B = nx.Graph(edges)\n",
    "nx.draw(B, **opts)"
   ]
  },
  {
   "cell_type": "markdown",
   "metadata": {},
   "source": [
    "In this graph, the **white** nodes can be taken  as the set $W = \\{0,1,2,\\dots,4\\}$ \n",
    "and the **black** nodes as $B = \\{5,6,\\dots,9\\}$.\n",
    "The drawing command `nx.draw` takes as optional argument a dictionary `pos` that specifies for\n",
    "each node a (relative) position in the drawing.  Here, the node is the key and the \n",
    "position is a pair of $x$,$y$-coordinates.  In this example we can use the (integer) quotient\n",
    "and remainder, as returned by the python method `divmod` to quickly compute a dictionary of positions\n",
    "that have the white nodes on the left, and the black nodes on the right."
   ]
  },
  {
   "cell_type": "code",
   "execution_count": null,
   "metadata": {},
   "outputs": [],
   "source": [
    "divmod(7, 5)"
   ]
  },
  {
   "cell_type": "code",
   "execution_count": null,
   "metadata": {},
   "outputs": [],
   "source": [
    "pos = {x: divmod(x, 5) for x in range(10)}\n",
    "print(pos)"
   ]
  },
  {
   "cell_type": "code",
   "execution_count": null,
   "metadata": {},
   "outputs": [],
   "source": [
    "nx.draw(B, pos, **opts)"
   ]
  },
  {
   "cell_type": "markdown",
   "metadata": {},
   "source": [
    "Node colors can be specified as a *list* assigned to the keyword argument `node_color`.  We can use the $x$-coordinates of the node positions for that purpose."
   ]
  },
  {
   "cell_type": "code",
   "execution_count": null,
   "metadata": {},
   "outputs": [],
   "source": [
    "color = [pos[x][0] for x in B.nodes()]\n",
    "color"
   ]
  },
  {
   "cell_type": "code",
   "execution_count": null,
   "metadata": {},
   "outputs": [],
   "source": [
    "print(B.nodes)"
   ]
  },
  {
   "cell_type": "code",
   "execution_count": null,
   "metadata": {},
   "outputs": [],
   "source": [
    "opts2 = { \"with_labels\": True, \"node_color\": color, \"font_color\": 'r' }\n",
    "nx.draw(B, pos, **opts2)"
   ]
  },
  {
   "cell_type": "code",
   "execution_count": null,
   "metadata": {},
   "outputs": [],
   "source": [
    "nx.draw(B, **opts2)"
   ]
  },
  {
   "cell_type": "markdown",
   "metadata": {},
   "source": [
    "A **(vertex)-coloring** of a graph $G$ is an assignment of (finitely many) colors to the nodes of $G$,\n",
    "so that any two nodes which are connected by an edge have *different* colors.\n",
    "\n",
    "A graph is called **$N$-colorable**, if it has a vertex coloring with (at most) $N$ colors."
   ]
  },
  {
   "cell_type": "markdown",
   "metadata": {},
   "source": [
    "<div class=\"alert alert-danger\">\n",
    "    <b>Theorem.</b> Let $G$ be a graph.  The following are equivalent:\n",
    "<ul>\n",
    "    <li>$G$ is bipartite;</li>\n",
    "    <li>$G$ is $2$-colorable;</li>\n",
    "    <li>each cycle in $G$ has even length.</li>\n",
    "</ul>\n",
    "    (See below for <b>cycle</b> and <b>length</b>)\n",
    "</div>"
   ]
  },
  {
   "cell_type": "markdown",
   "metadata": {},
   "source": [
    "2D grids are naturally bipartite:"
   ]
  },
  {
   "cell_type": "code",
   "execution_count": null,
   "metadata": {},
   "outputs": [],
   "source": [
    "G44 = nx.grid_2d_graph(4, 4)\n",
    "nx.draw(G44)"
   ]
  },
  {
   "cell_type": "markdown",
   "metadata": {},
   "source": [
    "The method `nx.bipartite.color` determines a $2$-coloring of a graph $G$ algorithmically, if it exists, i.e. if\n",
    "$G$ is bipartite."
   ]
  },
  {
   "cell_type": "code",
   "execution_count": null,
   "metadata": {},
   "outputs": [],
   "source": [
    "color = nx.bipartite.color(G44)\n",
    "print(color)"
   ]
  },
  {
   "cell_type": "code",
   "execution_count": null,
   "metadata": {},
   "outputs": [],
   "source": [
    "nx.color(G44)"
   ]
  },
  {
   "cell_type": "code",
   "execution_count": null,
   "metadata": {},
   "outputs": [],
   "source": [
    "color = [color[x] for x in G44.nodes()]\n",
    "color"
   ]
  },
  {
   "cell_type": "code",
   "execution_count": null,
   "metadata": {},
   "outputs": [],
   "source": [
    "opts2[\"node_color\"] = color\n",
    "nx.draw(G44, **opts2)"
   ]
  },
  {
   "cell_type": "markdown",
   "metadata": {},
   "source": [
    "### Affiliation Networks and Projections\n",
    "\n",
    "Bipartite graphs arise in practice as models for **affiliation networks**.\n",
    "In such a network, the *black* nodes are people, and the *white* nodes are attributes \n",
    "of the people, such as common interests (books bought online, TV shows watched), workplaces, social events attended ...\n",
    "Edges in such network connect people with their attributes.\n",
    "\n",
    "A frequently cited example form the sociology literature (Davis, A., Gardner, B., and \n",
    "Gardner, R. 1941. \n",
    "Deep South.\n",
    "Chicago: University of Chicago Press.) is the **Southern Women Network**.\n",
    "This is a data set of 18 women observed over a nine-month period. During that period, various subsets of these women met in a series of 14 informal social events. The following table records which women attended which events."
   ]
  },
  {
   "cell_type": "markdown",
   "metadata": {},
   "source": [
    "<img src=\"https://www.researchgate.net/profile/Linton_Freeman/publication/246188409/figure/fig1/AS:298262658600961@1448122767704/Participation-of-the-Southern-Women-in-Events.png\">"
   ]
  },
  {
   "cell_type": "markdown",
   "metadata": {},
   "source": [
    "The resulting bipartite graph on the vertex set consisting of the 18 woman and the 14 events is readily available in `NetworkX`."
   ]
  },
  {
   "cell_type": "code",
   "execution_count": null,
   "metadata": {},
   "outputs": [],
   "source": [
    "G = nx.generators.social.davis_southern_women_graph()\n",
    "print(G.nodes())"
   ]
  },
  {
   "cell_type": "code",
   "execution_count": null,
   "metadata": {},
   "outputs": [],
   "source": [
    "nx.draw(G, **opts)"
   ]
  },
  {
   "cell_type": "code",
   "execution_count": null,
   "metadata": {},
   "outputs": [],
   "source": [
    "color = nx.bipartite.color(G)\n",
    "color = [color[x] for x in G.nodes()]\n",
    "print(color)"
   ]
  },
  {
   "cell_type": "code",
   "execution_count": null,
   "metadata": {},
   "outputs": [],
   "source": [
    "opts2[\"node_color\"] = color\n",
    "nx.draw(G, **opts2)"
   ]
  },
  {
   "cell_type": "markdown",
   "metadata": {},
   "source": [
    "**Note.** The adjacency matrix $A$ of a bipartite graph $G$, with respect to a suitable ordering of the vertices\n",
    "($B$ first, then $W$), has the form of a $2 \\times 2$-block matrix,\n",
    "$$\n",
    "  A = \\left( \\begin{array}{cc} 0 & C \\\\ C^T & 0 \\end{array} \\right)\n",
    "$$\n",
    "where the blocks on the diagonal consist entirely of zeros, as there are no edges between vertices of the same color, and the lower left block is the **transpose** $C^T$ of the matrix $C$ of entries in the upper right. "
   ]
  },
  {
   "cell_type": "code",
   "execution_count": null,
   "metadata": {},
   "outputs": [],
   "source": [
    "A = nx.adjacency_matrix(G)\n",
    "print(A.toarray())"
   ]
  },
  {
   "cell_type": "markdown",
   "metadata": {},
   "source": [
    "Oh.  You don't really see much this way ..."
   ]
  },
  {
   "cell_type": "code",
   "execution_count": null,
   "metadata": {},
   "outputs": [],
   "source": [
    "with np.printoptions(threshold=9999):\n",
    "    print(A.toarray())"
   ]
  },
  {
   "cell_type": "markdown",
   "metadata": {},
   "source": [
    "* In `NetworkX`, all parts of a graph can have **attributes**: the nodes, \n",
    "the edges, and the graph object itself.  Graph object attributes of a graph `G` are stored in the field `G.graph`.  By convention, the two\n",
    "underlying sets of a bipartite graph are stored here as attributes\n",
    "called `'top'` and `'bottom'`."
   ]
  },
  {
   "cell_type": "code",
   "execution_count": null,
   "metadata": {},
   "outputs": [],
   "source": [
    "X, Y = G.graph['top'], G.graph['bottom']\n",
    "C = nx.bipartite.biadjacency_matrix(G, X, Y)\n",
    "print(C.toarray())"
   ]
  },
  {
   "cell_type": "markdown",
   "metadata": {},
   "source": [
    "As $A = A^T$, we get\n",
    "\\\\[\n",
    "A^T \\cdot A = A \\cdot A^T = A \\cdot A = \n",
    "\\left(\n",
    "\\begin{array}{cc}\n",
    "C \\cdot C^T & 0 \\\\ 0 & C^T \\cdot C\n",
    "\\end{array}\n",
    "\\right)\n",
    "\\\\]\n",
    "where $C \\cdot C^T$ is the adjacency matrix of the **projection** onto the vertex set $B$,\n",
    "and $C^T \\cdot C$is the adjacency matrix of the **projection** onto the vertex set $W$."
   ]
  },
  {
   "cell_type": "code",
   "execution_count": null,
   "metadata": {},
   "outputs": [],
   "source": [
    "BB = nx.from_numpy_matrix((C*C.transpose()).toarray())\n",
    "nx.draw(BB, **opts)"
   ]
  },
  {
   "cell_type": "code",
   "execution_count": null,
   "metadata": {},
   "outputs": [],
   "source": [
    "nodes = G.graph['top']\n",
    "mapping = {i: nodes[i] for i in range(len(nodes))}\n",
    "nx.relabel_nodes(BB, mapping, False)\n",
    "nx.draw(BB, **opts)"
   ]
  },
  {
   "cell_type": "code",
   "execution_count": null,
   "metadata": {},
   "outputs": [],
   "source": [
    "BBB = nx.projected_graph(G, G.graph['top'])\n",
    "nx.draw(BBB, **opts)"
   ]
  },
  {
   "cell_type": "code",
   "execution_count": null,
   "metadata": {},
   "outputs": [],
   "source": [
    "WWW = nx.projected_graph(G, G.graph['bottom'])\n",
    "nx.draw(WWW, **opts)"
   ]
  },
  {
   "cell_type": "code",
   "execution_count": null,
   "metadata": {},
   "outputs": [],
   "source": [
    "print((C*C.transpose()).toarray())"
   ]
  },
  {
   "cell_type": "markdown",
   "metadata": {},
   "source": [
    "##  Code Corner"
   ]
  },
  {
   "cell_type": "markdown",
   "metadata": {},
   "source": [
    "### `python`"
   ]
  },
  {
   "cell_type": "markdown",
   "metadata": {},
   "source": [
    "* `divmod`: [[doc]](https://docs.python.org/3/library/functions.html#divmod) the built-in quotient-and-remainder"
   ]
  },
  {
   "cell_type": "code",
   "execution_count": null,
   "metadata": {},
   "outputs": [],
   "source": [
    "divmod(-7, 5)"
   ]
  },
  {
   "cell_type": "markdown",
   "metadata": {},
   "source": [
    "### `numpy`"
   ]
  },
  {
   "cell_type": "markdown",
   "metadata": {},
   "source": [
    "* `printoptions`: [[doc]](https://numpy.org/doc/stable/reference/generated/numpy.printoptions.html) set options for printing arrays"
   ]
  },
  {
   "cell_type": "markdown",
   "metadata": {},
   "source": [
    "### `networkx`"
   ]
  },
  {
   "cell_type": "markdown",
   "metadata": {},
   "source": [
    "* `grid_2d_graph`: [[doc]](https://networkx.org/documentation/stable/reference/generated/networkx.generators.lattice.grid_2d_graph.html)\n",
    "creates a 2D grid graph."
   ]
  },
  {
   "cell_type": "markdown",
   "metadata": {},
   "source": [
    "* `bipartite.color`: [[doc]](https://networkx.org/documentation/stable/reference/algorithms/generated/networkx.algorithms.bipartite.basic.color.html) computes a $2$-coloring of a graph"
   ]
  },
  {
   "cell_type": "markdown",
   "metadata": {},
   "source": [
    "* `bipartite.biadjacency_matrix`: [[doc]](https://networkx.org/documentation/stable/reference/algorithms/generated/networkx.algorithms.bipartite.matrix.biadjacency_matrix.html) the incidence matrix of a bipartite graph"
   ]
  },
  {
   "cell_type": "markdown",
   "metadata": {},
   "source": [
    "## Exercises\n",
    "\n",
    "1. Compute the adjacency matrix of the bipartite graph $B$ at the top \n",
    "of this page and verify its block structure.\n",
    "\n",
    "1. Compute the biadjacency matrix $C$ of the graph $B$.\n",
    "\n",
    "1. Compute the two products of $C$ and its transpose,\n",
    "and, using the products as adjacency matrix, construct two graphs\n",
    "from them.\n",
    "\n",
    "1. Compute the two projections of the bipartite graph $B$ and\n",
    "compare them with the graphs constructed in the previous exercise."
   ]
  },
  {
   "cell_type": "code",
   "execution_count": null,
   "metadata": {},
   "outputs": [],
   "source": []
  }
 ],
 "metadata": {
  "kernelspec": {
   "display_name": "Python 3",
   "language": "python",
   "name": "python3"
  },
  "language_info": {
   "codemirror_mode": {
    "name": "ipython",
    "version": 3
   },
   "file_extension": ".py",
   "mimetype": "text/x-python",
   "name": "python",
   "nbconvert_exporter": "python",
   "pygments_lexer": "ipython3",
   "version": "3.7.6"
  }
 },
 "nbformat": 4,
 "nbformat_minor": 2
}
